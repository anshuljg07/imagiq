{
 "cells": [
  {
   "cell_type": "code",
   "execution_count": null,
   "metadata": {},
   "outputs": [],
   "source": [
    "# Run this to change the working directory.\n",
    "# TODO: pip install will resolve this issue...\n",
    "import os\n",
    "os.chdir(\"..\")"
   ]
  },
  {
   "cell_type": "code",
   "execution_count": null,
   "metadata": {},
   "outputs": [],
   "source": [
    "import numpy as np\n",
    "import torch\n",
    "from imagiq.models import Model\n",
    "from imagiq.datasets import NIHDataset\n",
    "from monai.transforms import (\n",
    "    Compose,\n",
    "    LoadImaged,\n",
    "    ScaleIntensityd,\n",
    "    SqueezeDimd,\n",
    "    AddChanneld,\n",
    "    AsChannelFirstd,\n",
    "    Lambdad,\n",
    "    ToTensord,\n",
    "    Resized,\n",
    "    RandRotated,\n",
    "    RandFlipd,\n",
    "    RandHistogramShiftd,\n",
    "    RandGaussianNoised,\n",
    ")\n",
    "from monai.networks.nets import densenet121\n",
    "from monai.data import CacheDataset\n",
    "import sys"
   ]
  },
  {
   "cell_type": "code",
   "execution_count": null,
   "metadata": {},
   "outputs": [],
   "source": [
    "# TODO: Read all, not just the test section\n",
    "# TODO: Train test split\n",
    "master_dataset = NIHDataset(section=\"test\", download=[0])\n",
    "print(master_dataset)"
   ]
  },
  {
   "cell_type": "code",
   "execution_count": null,
   "metadata": {},
   "outputs": [],
   "source": [
    "# Node 1 is biased towards Atelectasis\n",
    "# Node 2 is biased towards Infiltration\n",
    "# TODO: bias towards AP/Lateral views\n",
    "# TODO: Bias towards male/female\n",
    "N_normal = master_dataset.class_count[0]\n",
    "\n",
    "train_data = list()\n",
    "val_data = list()\n",
    "test_data = list()\n",
    "for i, data in enumerate(master_dataset):\n",
    "    data[\"label\"] = 1-data[\"label\"][0]\n",
    "    r = np.random.rand()\n",
    "    if r < 0.7:\n",
    "        train_data.append(data)\n",
    "    elif r < 0.85:\n",
    "        val_data.append(data)\n",
    "    else:\n",
    "        test_data.append(data)"
   ]
  },
  {
   "cell_type": "code",
   "execution_count": null,
   "metadata": {},
   "outputs": [],
   "source": [
    "train_transforms = Compose(\n",
    "    [\n",
    "        LoadImaged(\"image\"),\n",
    "        Lambdad(\"image\", func=lambda x: np.mean(x, axis=2) if len(x.shape) == 3 else x),\n",
    "        AsChannelFirstd(\"image\"),\n",
    "        AddChanneld(\"image\"),\n",
    "        ScaleIntensityd(\"image\"),\n",
    "        Resized(\"image\", spatial_size=(224,224), mode=\"nearest\"),\n",
    "        RandHistogramShiftd(\"image\", prob=0.2),\n",
    "        RandGaussianNoised(\"image\", prob=0.2),\n",
    "        RandRotated(\"image\", range_x=3.141592/12, prob=0.2),\n",
    "        RandFlipd(\"image\", prob=0.2),\n",
    "    ]\n",
    ")\n",
    "\n",
    "test_transforms = Compose(\n",
    "    [\n",
    "        LoadImaged(\"image\"),\n",
    "        Lambdad(\"image\", func=lambda x: np.mean(x, axis=2) if len(x.shape) == 3 else x),\n",
    "        AsChannelFirstd(\"image\"),\n",
    "        AddChanneld(\"image\"),\n",
    "        ScaleIntensityd(\"image\"),\n",
    "        Resized(\"image\", spatial_size=(224,224), mode=\"nearest\"),\n",
    "    ]\n",
    ")\n",
    "\n",
    "train_dataset = CacheDataset(train_data, train_transforms)\n",
    "val_dataset = CacheDataset(val_data, test_transforms)\n",
    "test_dataset = CacheDataset(test_data, test_transforms)"
   ]
  },
  {
   "cell_type": "code",
   "execution_count": null,
   "metadata": {},
   "outputs": [],
   "source": [
    "model = Model(densenet121(spatial_dims=2, in_channels=1, out_channels=2))"
   ]
  },
  {
   "cell_type": "code",
   "execution_count": null,
   "metadata": {
    "scrolled": true
   },
   "outputs": [],
   "source": [
    "optimizer = torch.optim.Adam( model.net.parameters(), 5e-3)\n",
    "scheduler = torch.optim.lr_scheduler.ReduceLROnPlateau( optimizer, mode='min', factor=0.1, patience=5)\n",
    "history = model.train(\n",
    "    train_dataset,\n",
    "    torch.nn.CrossEntropyLoss(),\n",
    "    optimizer,\n",
    "    epochs=10,\n",
    "    metrics=[\"AUC\"],\n",
    "    batch_size=16,\n",
    "    device=\"cpu\",\n",
    "    validation_dataset=val_dataset,\n",
    "    dirpath='path/to/save/model/',\n",
    "    scheduler=scheduler\n",
    ")"
   ]
  },
  {
   "cell_type": "code",
   "execution_count": null,
   "metadata": {},
   "outputs": [],
   "source": [
    "history.keys()"
   ]
  },
  {
   "cell_type": "code",
   "execution_count": null,
   "metadata": {},
   "outputs": [],
   "source": [
    "%matplotlib inline\n",
    "import matplotlib.pyplot as plt\n",
    "\n",
    "plt.figure( figsize=(15, 5) ) \n",
    "plt.subplot( 1, 2, 1 )\n",
    "plt.plot( history['loss'] )\n",
    "plt.plot( history['val_loss'] )\n",
    "plt.title( 'loss vs epoch' )\n",
    "plt.xlabel('epochs')\n",
    "plt.ylabel('loss')\n",
    "plt.legend( ['train', 'validation'] )\n",
    "\n",
    "plt.subplot( 1, 2, 2 )\n",
    "plt.plot( history['auc'] )\n",
    "plt.plot( history['val_auc'] )\n",
    "plt.title( 'AUC vs epoch' )\n",
    "plt.xlabel('epochs')\n",
    "plt.ylabel('auc')\n",
    "plt.legend( ['train', 'validation'] )"
   ]
  },
  {
   "cell_type": "code",
   "execution_count": null,
   "metadata": {},
   "outputs": [],
   "source": [
    "# TODO: evaluate() method is incomplete\n",
    "model.predict(test_dataset, device=\"cpu\")"
   ]
  }
 ],
 "metadata": {
  "kernelspec": {
   "display_name": "Python 3",
   "language": "python",
   "name": "python3"
  },
  "language_info": {
   "codemirror_mode": {
    "name": "ipython",
    "version": 3
   },
   "file_extension": ".py",
   "mimetype": "text/x-python",
   "name": "python",
   "nbconvert_exporter": "python",
   "pygments_lexer": "ipython3",
   "version": "3.8.8"
  }
 },
 "nbformat": 4,
 "nbformat_minor": 2
}
