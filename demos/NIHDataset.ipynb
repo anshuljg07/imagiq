{
 "cells": [
  {
   "cell_type": "markdown",
   "metadata": {},
   "source": [
    "# NIH Chest X-ray Classification Demo"
   ]
  },
  {
   "cell_type": "markdown",
   "metadata": {},
   "source": [
    "## Configure environment"
   ]
  },
  {
   "cell_type": "code",
   "execution_count": null,
   "metadata": {},
   "outputs": [],
   "source": [
    "# Run this to change the working directory.+\n",
    "# TODO: pip install will resolve this issue..+.\n",
    "import os\n",
    "os.chdir(\"..\")"
   ]
  },
  {
   "cell_type": "markdown",
   "metadata": {},
   "source": [
    "## Import"
   ]
  },
  {
   "cell_type": "code",
   "execution_count": null,
   "metadata": {},
   "outputs": [],
   "source": [
    "import torch\n",
    "import imagiq.federated as iqf\n",
    "from imagiq.models import Model\n",
    "from imagiq.datasets import NIHDataset"
   ]
  },
  {
   "cell_type": "markdown",
   "metadata": {},
   "source": [
    "## Load dataset"
   ]
  },
  {
   "cell_type": "code",
   "execution_count": null,
   "metadata": {},
   "outputs": [],
   "source": [
    "import numpy as np\n",
    "from monai.transforms import \\\n",
    "    Compose, LoadPNGd, AddChanneld, ScaleIntensityd, Lambdad, Resized, AsChannelFirstd, ToTensorD, RandFlipd, RandRotated, RandZoomd, CastToTyped\n",
    "\n",
    "train_transforms = Compose([\n",
    "    LoadPNGd(\"image\"),\n",
    "    Lambdad(\"image\", func=lambda x: np.mean(x, axis=2) if len(x.shape) == 3 else x),\n",
    "    AsChannelFirstd(\"image\"),\n",
    "    AddChanneld(\"image\"),\n",
    "    ScaleIntensityd(\"image\"),\n",
    "    Resized(\"image\", spatial_size=(224,224), mode=\"nearest\"),\n",
    "    RandRotated(\"image\", range_x=15, prob=0.5, keep_size=True),\n",
    "    RandFlipd(\"image\", spatial_axis=0, prob=0.5),\n",
    "    RandZoomd(\"image\", min_zoom=0.9, max_zoom=1.1, prob=0.5, keep_size=True),\n",
    "    ToTensorD((\"image\", \"label\")), \n",
    "    CastToTyped( ('label'), torch.float )\n",
    "])\n",
    "\n",
    "val_transforms = Compose([\n",
    "    LoadPNGd(\"image\"),\n",
    "    Lambdad(\"image\", func=lambda x: np.mean(x, axis=2) if len(x.shape) == 3 else x),\n",
    "    AsChannelFirstd(\"image\"),\n",
    "    AddChanneld(\"image\"),\n",
    "    ScaleIntensityd(\"image\"),\n",
    "    Resized(\"image\", spatial_size=(224,224), mode=\"nearest\"),\n",
    "    ToTensorD((\"image\", \"label\")), \n",
    "    CastToTyped( ('label'), torch.float )\n",
    "])\n",
    "\n",
    "# set download = None\n",
    "train_ds = NIHDataset(\"training\", train_transforms, download=[0])\n",
    "val_ds = NIHDataset(\"validation\", val_transforms, download=[0])\n",
    "test_ds = NIHDataset(\"test\", val_transforms, download=[0])"
   ]
  },
  {
   "cell_type": "code",
   "execution_count": null,
   "metadata": {},
   "outputs": [],
   "source": [
    "print( train_ds ) \n",
    "print( val_ds ) \n",
    "print( test_ds ) "
   ]
  },
  {
   "cell_type": "markdown",
   "metadata": {},
   "source": [
    "## Display Data"
   ]
  },
  {
   "cell_type": "code",
   "execution_count": null,
   "metadata": {},
   "outputs": [],
   "source": [
    "import random\n",
    "import numpy as np\n",
    "from PIL import Image\n",
    "import matplotlib.pyplot as plt\n",
    "\n",
    "plt.subplots(3, 3, figsize=(8, 8))\n",
    "for i,k in enumerate(np.random.randint( len(train_ds), size=9)):\n",
    "    im = Image.open(train_ds.data[k]['image'] )\n",
    "    arr = np.array(im)\n",
    "    plt.subplot(3, 3, i + 1)\n",
    "    # plt.xlabel(class_names[image_label_list[k]])\n",
    "    plt.imshow(arr, cmap='gray', vmin=0, vmax=255)\n",
    "plt.tight_layout()\n",
    "plt.show()"
   ]
  },
  {
   "cell_type": "markdown",
   "metadata": {},
   "source": [
    "## Feed it to a simple model"
   ]
  },
  {
   "cell_type": "code",
   "execution_count": null,
   "metadata": {},
   "outputs": [],
   "source": [
    "from monai.data import DataLoader\n",
    "from monai.networks.nets import densenet121\n",
    "\n",
    "device = torch.device(\"cuda:0\" if torch.cuda.is_available() else \"cpu\")\n",
    "\n",
    "net = densenet121(\n",
    "    spatial_dims=2,\n",
    "    in_channels=1,\n",
    "    out_channels=15)\n",
    "\n",
    "# modify densenet121 by including some dropout layers \n",
    "net.features[5].add_module( 'drop1', torch.nn.Dropout(0.5) )\n",
    "net.features[7].add_module( 'drop1', torch.nn.Dropout(0.5) )\n",
    "net.features[9].add_module( 'drop1', torch.nn.Dropout(0.5) )\n",
    "net.class_layers = torch.nn.Sequential( \n",
    "    torch.nn.ReLU( inplace=True ), \n",
    "    torch.nn.AdaptiveAvgPool2d( output_size=1),\n",
    "    torch.nn.Dropout( 0.5 ), \n",
    "    torch.nn.Flatten(start_dim=1, end_dim=-1), \n",
    "    torch.nn.Linear(in_features=1024, out_features=15, bias=True)\n",
    ")\n",
    "model = Model( net )"
   ]
  },
  {
   "cell_type": "code",
   "execution_count": null,
   "metadata": {},
   "outputs": [],
   "source": [
    "pos_weight = torch.tensor( train_ds.getPositiveWeights() ).to(device)\n",
    "model.train( train_ds,\n",
    "    torch.nn.BCEWithLogitsLoss( pos_weight=pos_weight), \n",
    "    torch.optim.Adam( model.net.parameters(), 1e-3, weight_decay=1e-4), \n",
    "    epochs=5, \n",
    "    metrics=['AUC'], \n",
    "    batch_size=16, \n",
    "    device=device,\n",
    "    validation_dataset=val_ds )"
   ]
  }
 ],
 "metadata": {
  "kernelspec": {
   "display_name": "Python 3",
   "language": "python",
   "name": "python3"
  },
  "language_info": {
   "codemirror_mode": {
    "name": "ipython",
    "version": 3
   },
   "file_extension": ".py",
   "mimetype": "text/x-python",
   "name": "python",
   "nbconvert_exporter": "python",
   "pygments_lexer": "ipython3",
   "version": "3.8.8"
  }
 },
 "nbformat": 4,
 "nbformat_minor": 2
}
