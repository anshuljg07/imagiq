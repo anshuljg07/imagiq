{
 "cells": [
  {
   "cell_type": "markdown",
   "metadata": {},
   "source": [
    "# Simple Federation"
   ]
  },
  {
   "cell_type": "markdown",
   "metadata": {},
   "source": [
    "## Configure Environment"
   ]
  },
  {
   "cell_type": "code",
   "execution_count": null,
   "metadata": {},
   "outputs": [],
   "source": [
    "# Run this to change the working directory.\n",
    "# TODO: pip install will resolve this issue...\n",
    "import os\n",
    "os.chdir(\"..\")"
   ]
  },
  {
   "cell_type": "code",
   "execution_count": null,
   "metadata": {},
   "outputs": [],
   "source": [
    "import imagiq.federated as iqf\n",
    "import numpy as np\n",
    "import torch\n",
    "from imagiq.models import Model\n",
    "from imagiq.datasets import NIHDataset\n",
    "from monai.transforms import (\n",
    "    Compose,\n",
    "    LoadImaged,\n",
    "    ScaleIntensityd,\n",
    "    SqueezeDimd,\n",
    "    AddChanneld,\n",
    "    AsChannelFirstd,\n",
    "    Lambdad,\n",
    "    ToTensord,\n",
    "    Resized, \n",
    "    RandRotated, \n",
    "    RandFlipd, \n",
    "    RandZoomd\n",
    ")\n",
    "from monai.networks.nets import densenet121, densenet201, densenet264, se_resnet50, se_resnet101, se_resnet152\n",
    "from monai.data import CacheDataset\n",
    "import sys"
   ]
  },
  {
   "cell_type": "markdown",
   "metadata": {},
   "source": [
    "## Create and start local nodes"
   ]
  },
  {
   "cell_type": "code",
   "execution_count": null,
   "metadata": {},
   "outputs": [],
   "source": [
    "# Create local nodes at ports 8000 and 8001\n",
    "node1_port = 8000\n",
    "node2_port = 8001\n",
    "node1 = iqf.nodes.Node(\"localhost\", node1_port)  # a virtual computer\n",
    "node2 = iqf.nodes.Node(\"localhost\", node2_port)  # another virtual computer\n",
    "\n",
    "node1.start()\n",
    "node2.start()"
   ]
  },
  {
   "cell_type": "markdown",
   "metadata": {},
   "source": [
    "## Establish Connections"
   ]
  },
  {
   "cell_type": "code",
   "execution_count": null,
   "metadata": {},
   "outputs": [],
   "source": [
    "node1.connect_to(\"localhost\", node2_port)\n",
    "node2.connect_to(\"localhost\", node1_port)"
   ]
  },
  {
   "cell_type": "code",
   "execution_count": null,
   "metadata": {},
   "outputs": [],
   "source": [
    "# TODO: Read all, not just the test section\n",
    "# TODO: Train test split\n",
    "train_dataset = NIHDataset(section=\"training\", download=[0])\n",
    "val_dataset = NIHDataset(section=\"validation\", download=[0])\n",
    "test_dataset = NIHDataset(section=\"test\", download=[0])\n",
    "print(train_dataset)\n",
    "print(val_dataset)\n",
    "print(test_dataset)"
   ]
  },
  {
   "cell_type": "code",
   "execution_count": null,
   "metadata": {
    "tags": []
   },
   "outputs": [],
   "source": [
    "# Node 1 is biased towards Atelectasis\n",
    "# Node 2 is biased towards Infiltration\n",
    "# TODO: bias towards AP/Lateral views\n",
    "# TODO: Bias towards male/female\n",
    "N_normal = train_dataset.class_count[0]\n",
    "\n",
    "train_node1 = list()\n",
    "train_node2 = list()\n",
    "for i, data in enumerate(train_dataset):\n",
    "    if data[\"label\"][1]:  # if atelectasis, more likely go in node1\n",
    "        data[\"label\"] = 1-data[\"label\"][0]\n",
    "        if np.random.rand() < 0.8:\n",
    "            train_node1.append(data)\n",
    "        else:\n",
    "            train_node2.append(data)\n",
    "    elif data[\"label\"][4]:  # infiltration, more likely go in node2\n",
    "        data[\"label\"] = 1-data[\"label\"][0]\n",
    "        if np.random.rand() < 0.8:\n",
    "            train_node2.append(data)\n",
    "        else:\n",
    "            train_node1.append(data)\n",
    "    else:  # for other findings, split it half and half\n",
    "        data[\"label\"] = 1-data[\"label\"][0]\n",
    "        if np.random.rand() < 0.5:\n",
    "            train_node1.append(data)\n",
    "        else:\n",
    "            train_node2.append(data)"
   ]
  },
  {
   "cell_type": "code",
   "execution_count": null,
   "metadata": {},
   "outputs": [],
   "source": [
    "val_normal = val_dataset.class_count[0]\n",
    "\n",
    "val_node1 = list()\n",
    "val_node2 = list()\n",
    "for i, data in enumerate(val_dataset):\n",
    "    \n",
    "    if data[\"label\"][1]:  # if atelectasis, more likely go in node1\n",
    "        data[\"label\"] = 1-data[\"label\"][0]\n",
    "        if np.random.rand() < 0.8:\n",
    "            val_node1.append(data)\n",
    "        else:\n",
    "            val_node2.append(data)\n",
    "    elif data[\"label\"][4]:  # infiltration, more likely go in node2\n",
    "        data[\"label\"] = 1-data[\"label\"][0]\n",
    "        if np.random.rand() < 0.8:\n",
    "            val_node2.append(data)\n",
    "        else:\n",
    "            val_node1.append(data)\n",
    "    else:  # for other findings, split it half and half\n",
    "        data[\"label\"] = 1-data[\"label\"][0]\n",
    "        if np.random.rand() < 0.5:\n",
    "            val_node1.append(data)\n",
    "        else:\n",
    "            val_node2.append(data)"
   ]
  },
  {
   "cell_type": "code",
   "execution_count": null,
   "metadata": {},
   "outputs": [],
   "source": [
    "test_normal = test_dataset.class_count[0]\n",
    "test_node1 = list()\n",
    "test_node2 = list()\n",
    "for i, data in enumerate(test_dataset):\n",
    "    if data[\"label\"][1]:  # if atelectasis, more likely go in node1\n",
    "        data[\"label\"] = 1-data[\"label\"][0]\n",
    "        if np.random.rand() < 0.8:\n",
    "            test_node1.append(data)\n",
    "        else:\n",
    "            test_node2.append(data)\n",
    "    elif data[\"label\"][4]:  # infiltration, more likely go in node2\n",
    "        data[\"label\"] = 1-data[\"label\"][0]\n",
    "        if np.random.rand() < 0.8:\n",
    "            test_node2.append(data)\n",
    "        else:\n",
    "            val_node1.append(data)\n",
    "    else:  # for other findings, split it half and half\n",
    "        data[\"label\"] = 1-data[\"label\"][0]\n",
    "        if np.random.rand() < 0.5:\n",
    "            test_node1.append(data)\n",
    "        else:\n",
    "            test_node2.append(data)"
   ]
  },
  {
   "cell_type": "code",
   "execution_count": null,
   "metadata": {
    "tags": []
   },
   "outputs": [],
   "source": [
    "train_transforms = Compose([\n",
    "    LoadImaged(\"image\"), \n",
    "    Lambdad(\"image\", func=lambda x: np.mean(x, axis=2) if len(x.shape) == 3 else x),\n",
    "    AsChannelFirstd(\"image\"),\n",
    "    AddChanneld(\"image\"),\n",
    "    ScaleIntensityd(\"image\"),\n",
    "    Resized(\"image\", spatial_size=(224,224), mode=\"nearest\"),\n",
    "    RandRotated(\"image\", range_x=15, prob=0.5, keep_size=True),\n",
    "    RandFlipd(\"image\", spatial_axis=0, prob=0.5),\n",
    "    RandZoomd(\"image\", min_zoom=0.9, max_zoom=1.1, prob=0.5, keep_size=True)\n",
    "])\n",
    "\n",
    "val_transforms = Compose([\n",
    "    LoadImaged(\"image\"),\n",
    "    Lambdad(\"image\", func=lambda x: np.mean(x, axis=2) if len(x.shape) == 3 else x),\n",
    "    AsChannelFirstd(\"image\"),\n",
    "    AddChanneld(\"image\"),\n",
    "    ScaleIntensityd(\"image\"),\n",
    "    Resized(\"image\", spatial_size=(224,224), mode=\"nearest\")\n",
    "])\n",
    "\n",
    "train_node1 = CacheDataset(train_node1, train_transforms)\n",
    "train_node2 = CacheDataset(train_node2, train_transforms)\n",
    "val_node1 = CacheDataset(val_node1, val_transforms)\n",
    "val_node2 = CacheDataset(val_node2, val_transforms)\n",
    "test_node1 = CacheDataset(test_node1, val_transforms)\n",
    "test_node2 = CacheDataset(test_node2, val_transforms)"
   ]
  },
  {
   "cell_type": "markdown",
   "metadata": {},
   "source": [
    "## Add models and datasets to the hospitals"
   ]
  },
  {
   "cell_type": "code",
   "execution_count": null,
   "metadata": {},
   "outputs": [],
   "source": [
    "node1.add_model([\n",
    "    Model(se_resnet50(spatial_dims=2, in_channels=1, num_classes=2), 'hospitalA_se_resnet50'),\n",
    "    Model(se_resnet101(spatial_dims=2, in_channels=1, num_classes=2), 'hospitalA_se_resnet101'),\n",
    "])\n",
    "\n",
    "node2.add_model([\n",
    "    Model(densenet201(spatial_dims=2, in_channels=1, out_channels=2), 'hospitalB_densenet201'),\n",
    "    Model(se_resnet152(spatial_dims=2, in_channels=1, num_classes=2), 'hospitalB_se_resnet152'),\n",
    "])"
   ]
  },
  {
   "cell_type": "code",
   "execution_count": null,
   "metadata": {},
   "outputs": [],
   "source": [
    "node1.add_dataset(train_node1)\n",
    "node2.add_dataset(train_node2)"
   ]
  },
  {
   "cell_type": "code",
   "execution_count": null,
   "metadata": {},
   "outputs": [],
   "source": [
    "import gc\n",
    "import time\n",
    "\n",
    "gc.collect()\n",
    "torch.cuda.empty_cache()"
   ]
  },
  {
   "cell_type": "markdown",
   "metadata": {},
   "source": [
    "## Training @ Hospital 1"
   ]
  },
  {
   "cell_type": "code",
   "execution_count": null,
   "metadata": {},
   "outputs": [],
   "source": [
    "# Models in hospital 1\n",
    "# TODO: this should happen in the node class (e.g. node1.train_all())\n",
    "for model in node1.model_bench:\n",
    "    optimizer = torch.optim.Adam( model.net.parameters(), 5e-3)\n",
    "    scheduler = torch.optim.lr_scheduler.ReduceLROnPlateau( optimizer, mode='min', factor=0.1, patience=5)\n",
    "    model.train(\n",
    "        train_node1,\n",
    "        torch.nn.CrossEntropyLoss(),\n",
    "        optimizer,\n",
    "        epochs=10,\n",
    "        metrics=[\"AUC\"],\n",
    "        batch_size=16,\n",
    "        device=\"cpu\",\n",
    "        validation_dataset=val_node1,\n",
    "        dirpath='path/to/save/model/',\n",
    "        scheduler=scheduler\n",
    ")"
   ]
  },
  {
   "cell_type": "code",
   "execution_count": null,
   "metadata": {},
   "outputs": [],
   "source": [
    "for model in node1.model_bench:\n",
    "    print(model.name)\n",
    "    model.predict(\n",
    "        test_node1,\n",
    "        batch_size=16\n",
    "    )"
   ]
  },
  {
   "cell_type": "markdown",
   "metadata": {},
   "source": [
    "## Training @ Hospital 2"
   ]
  },
  {
   "cell_type": "code",
   "execution_count": null,
   "metadata": {},
   "outputs": [],
   "source": [
    "###### Models in hospital 2\n",
    "for model in node2.model_bench:\n",
    "    optimizer = torch.optim.Adam( model.net.parameters(), 5e-3)\n",
    "    scheduler = torch.optim.lr_scheduler.ReduceLROnPlateau( optimizer, mode='min', factor=0.1, patience=5)\n",
    "    model.train(\n",
    "        train_node2,\n",
    "        torch.nn.CrossEntropyLoss(),\n",
    "        optimizer,\n",
    "        epochs=10,\n",
    "        metrics=[\"AUC\"],\n",
    "        batch_size=16,\n",
    "        device=\"cpu\",\n",
    "        validation_dataset=val_node2,\n",
    "        dirpath='path/to/save/model/',\n",
    "        scheduler=scheduler\n",
    ")"
   ]
  },
  {
   "cell_type": "code",
   "execution_count": null,
   "metadata": {},
   "outputs": [],
   "source": [
    "for model in node2.model_bench:\n",
    "    print(model.name)\n",
    "    model.predict(\n",
    "        test_node2,\n",
    "        batch_size=5\n",
    "    )"
   ]
  },
  {
   "cell_type": "markdown",
   "metadata": {},
   "source": [
    "## Terminate the Connections and Destroy the Virtual Hospitals"
   ]
  },
  {
   "cell_type": "code",
   "execution_count": null,
   "metadata": {},
   "outputs": [],
   "source": [
    "# TODO: merge stop and join\n",
    "node1.stop()\n",
    "node2.stop()\n",
    "node1.join()\n",
    "node2.join()"
   ]
  },
  {
   "cell_type": "code",
   "execution_count": null,
   "metadata": {},
   "outputs": [],
   "source": [
    "node1.destroy()\n",
    "node2.destroy()"
   ]
  }
 ],
 "metadata": {
  "kernelspec": {
   "display_name": "Python 3",
   "language": "python",
   "name": "python3"
  },
  "language_info": {
   "codemirror_mode": {
    "name": "ipython",
    "version": 3
   },
   "file_extension": ".py",
   "mimetype": "text/x-python",
   "name": "python",
   "nbconvert_exporter": "python",
   "pygments_lexer": "ipython3",
   "version": "3.8.8"
  }
 },
 "nbformat": 4,
 "nbformat_minor": 2
}
