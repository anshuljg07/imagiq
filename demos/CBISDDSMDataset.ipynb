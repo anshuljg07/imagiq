{
 "cells": [
  {
   "cell_type": "markdown",
   "id": "designing-mathematics",
   "metadata": {},
   "source": [
    "# CBISDDSM Classification Demo"
   ]
  },
  {
   "cell_type": "markdown",
   "id": "pressing-croatia",
   "metadata": {},
   "source": [
    "## Configure environment"
   ]
  },
  {
   "cell_type": "code",
   "execution_count": null,
   "id": "unusual-desperate",
   "metadata": {},
   "outputs": [],
   "source": [
    "# Run this to change the working directory.\n",
    "# TODO: pip install will resolve this issue...\n",
    "import os\n",
    "os.chdir(\"..\")"
   ]
  },
  {
   "cell_type": "code",
   "execution_count": null,
   "id": "increasing-accommodation",
   "metadata": {},
   "outputs": [],
   "source": [
    "import numpy as np\n",
    "import torch\n",
    "from imagiq.federated.nodes import Node\n",
    "from imagiq.models import Model\n",
    "from imagiq.datasets import breast_density\n",
    "from imagiq.datasets import CBISDDSMDataset, LoadBreastDensity, LoadBreastDensityd\n",
    "from monai.transforms import (\n",
    "    Compose,\n",
    "    LoadImaged,\n",
    "    ScaleIntensityd,\n",
    "    SqueezeDimd,\n",
    "    AddChanneld,\n",
    "    AsChannelFirstd,\n",
    "    Lambdad,\n",
    "    ToTensord,\n",
    "    Resized,\n",
    "    RandRotated,\n",
    "    RandFlipd,\n",
    "    RandHistogramShiftd,\n",
    "    RandGaussianNoised,\n",
    "    RandZoomd, \n",
    "    RepeatChanneld, \n",
    "    NormalizeIntensityd\n",
    ")\n",
    "from monai.networks.nets import densenet121, densenet169\n",
    "from monai.data import CacheDataset\n",
    "import sys\n",
    "import pandas as pd"
   ]
  },
  {
   "cell_type": "markdown",
   "id": "married-explosion",
   "metadata": {},
   "source": [
    "## Load dataset\n",
    "\n",
    "CBISDDSM dataset (~100GB) are split into 10 zipped files (4GB each after compression). Specific zip file can be downloaded by setting an index number when creating CBISDDSMDataset, i.e. `CBISDDSMDataset(..., download=[0, 5]` will download the first and sixth zip file. "
   ]
  },
  {
   "cell_type": "code",
   "execution_count": null,
   "id": "occasional-number",
   "metadata": {},
   "outputs": [],
   "source": [
    "train_transform = Compose( [\n",
    "    LoadImaged( keys='image'),\n",
    "    Lambdad(keys='image', func=lambda x: x.T),\n",
    "    AsChannelFirstd('image'),\n",
    "    Resized('image', spatial_size=(225,225), mode='nearest'),\n",
    "    ScaleIntensityd('image'),\n",
    "    NormalizeIntensityd( 'image',\n",
    "                        subtrahend=[0.449],\n",
    "                        divisor=[0.226],\n",
    "                        channel_wise=True\n",
    "                       ),\n",
    "    RandFlipd('image', spatial_axis=0, prob=0.5), \n",
    "    RandZoomd( 'image', min_zoom=0.9, max_zoom=1.5, prob=0.5, keep_size=True),\n",
    "    ToTensord( ('image', 'label') ),\n",
    "])\n",
    "\n",
    "val_transform = Compose( [\n",
    "    LoadImaged( keys='image'),\n",
    "    Lambdad(keys='image', func=lambda x: x.T),\n",
    "    AsChannelFirstd('image'),\n",
    "    Resized('image', spatial_size=(225,225), mode='nearest'),\n",
    "    ScaleIntensityd('image'),\n",
    "    NormalizeIntensityd( 'image',\n",
    "                        subtrahend=[0.449],\n",
    "                        divisor=[0.226],\n",
    "                        channel_wise=True\n",
    "                       ),\n",
    "    ToTensord( ('image', 'label') ),\n",
    "])\n",
    "\n",
    "train_ds = CBISDDSMDataset( section='training', transforms=train_transform, download=[0])\n",
    "val_ds = CBISDDSMDataset( section='validation', transforms=val_transform, download=[0])\n",
    "test_ds = CBISDDSMDataset( section='test', transforms=val_transform, download=[0])"
   ]
  },
  {
   "cell_type": "code",
   "execution_count": null,
   "id": "little-return",
   "metadata": {},
   "outputs": [],
   "source": [
    "breast_density.sanity_check( train_ds, val_ds, test_ds )"
   ]
  },
  {
   "cell_type": "code",
   "execution_count": null,
   "id": "military-subject",
   "metadata": {},
   "outputs": [],
   "source": [
    "print( train_ds )\n",
    "print( val_ds ) \n",
    "print( test_ds ) "
   ]
  },
  {
   "cell_type": "code",
   "execution_count": null,
   "id": "economic-present",
   "metadata": {},
   "outputs": [],
   "source": [
    "import matplotlib.pyplot as plt\n",
    "\n",
    "plt.subplots(3, 3, figsize=(8, 8))\n",
    "for i, data in enumerate(train_ds):\n",
    "    if i==9:\n",
    "        break\n",
    "    im, label = data['image'], data['label']\n",
    "    arr = np.array(im)\n",
    "    plt.subplot(3, 3, i + 1)\n",
    "    plt.imshow(arr[0, :, :], cmap='gray', vmin=0, vmax=1)\n",
    "    plt.axis('off')\n",
    "    plt.title(label)\n",
    "plt.tight_layout()\n",
    "plt.show()"
   ]
  },
  {
   "cell_type": "markdown",
   "id": "unable-noise",
   "metadata": {},
   "source": [
    "## Create virtual nodes (institutions)"
   ]
  },
  {
   "cell_type": "code",
   "execution_count": null,
   "id": "standing-preliminary",
   "metadata": {},
   "outputs": [],
   "source": [
    "# Create local nodes at ports 8000, 8001, 8002\n",
    "node1_port = 8000\n",
    "node2_port = 8001\n",
    "node3_port = 8002\n",
    "\n",
    "node1 = Node(\"localhost\", node1_port)  # a virtual computer\n",
    "node2 = Node(\"localhost\", node2_port)  # another virtual computer\n",
    "node3 = Node(\"localhost\", node3_port)  \n",
    "\n",
    "node1.start()\n",
    "node2.start()\n",
    "node3.start()"
   ]
  },
  {
   "cell_type": "markdown",
   "id": "described-kentucky",
   "metadata": {},
   "source": [
    "## Establish Connections"
   ]
  },
  {
   "cell_type": "code",
   "execution_count": null,
   "id": "proud-retrieval",
   "metadata": {},
   "outputs": [],
   "source": [
    "node1.connect_to(\"localhost\", node2_port)\n",
    "node1.connect_to(\"localhost\", node3_port)\n",
    "\n",
    "node2.connect_to(\"localhost\", node1_port)\n",
    "node2.connect_to(\"localhost\", node3_port)\n",
    "\n",
    "node3.connect_to(\"localhost\", node1_port)\n",
    "node3.connect_to(\"localhost\", node2_port)"
   ]
  },
  {
   "cell_type": "markdown",
   "id": "professional-printer",
   "metadata": {},
   "source": [
    "## Prepare a model"
   ]
  },
  {
   "cell_type": "code",
   "execution_count": null,
   "id": "modular-solid",
   "metadata": {},
   "outputs": [],
   "source": [
    "denseNet121 = densenet121(\n",
    "    spatial_dims=2,\n",
    "    in_channels=1,\n",
    "    out_channels=4,\n",
    "    pretrained=True\n",
    ")\n",
    "denseNet121.class_layers = torch.nn.Sequential( \n",
    "    torch.nn.ReLU( inplace=True ), \n",
    "    torch.nn.AdaptiveAvgPool2d( output_size=1),\n",
    "    torch.nn.Flatten(start_dim=1, end_dim=-1), \n",
    "    torch.nn.Linear(in_features=1024, out_features=4, bias=True),\n",
    "    torch.nn.Softmax()\n",
    ")\n",
    "\n",
    "denseNet169 = densenet169(spatial_dims=2, in_channels=1, out_channels=4, pretrained=True)\n",
    "denseNet169.class_layers = torch.nn.Sequential( \n",
    "    torch.nn.ReLU( inplace=True ), \n",
    "    torch.nn.AdaptiveAvgPool2d( output_size=1),\n",
    "    torch.nn.Flatten(start_dim=1, end_dim=-1), \n",
    "    torch.nn.Linear(in_features=1664, out_features=4, bias=True),\n",
    "    torch.nn.Softmax()\n",
    ")"
   ]
  },
  {
   "cell_type": "code",
   "execution_count": null,
   "id": "advised-watts",
   "metadata": {},
   "outputs": [],
   "source": [
    "node1.add_model([\n",
    "    Model(denseNet121, 'hospitalA_DenseNet121'), \n",
    "    Model(denseNet169, 'hospitalA_DenseNet169')\n",
    "])\n",
    "node2.add_model([\n",
    "    Model(denseNet121, 'hospitalB_DenseNet121'), \n",
    "    Model(denseNet169, 'hospitalB_DenseNet169')\n",
    "])\n",
    "node3.add_model([\n",
    "    Model(denseNet121, 'hospitalC_DenseNet121'), \n",
    "    Model(denseNet169, 'hospitalC_DenseNet169')\n",
    "])"
   ]
  },
  {
   "cell_type": "code",
   "execution_count": null,
   "id": "upset-delaware",
   "metadata": {},
   "outputs": [],
   "source": [
    "print( 'HospitalA model bench:', node1.model_bench )\n",
    "print( 'HospitalB model bench:', node2.model_bench )\n",
    "print( 'HospitalC model bench:', node3.model_bench )"
   ]
  },
  {
   "cell_type": "markdown",
   "id": "irish-bottom",
   "metadata": {},
   "source": [
    "## Train @ Hospital A"
   ]
  },
  {
   "cell_type": "code",
   "execution_count": null,
   "id": "better-prairie",
   "metadata": {},
   "outputs": [],
   "source": [
    "# helper loss function\n",
    "def cross_entorpy_with_onehot(input, target):\n",
    "    _, labels = target.max(dim=1)\n",
    "    return torch.nn.CrossEntropyLoss()(input, labels)"
   ]
  },
  {
   "cell_type": "code",
   "execution_count": null,
   "id": "encouraging-cleaning",
   "metadata": {
    "scrolled": true
   },
   "outputs": [],
   "source": [
    "device = torch.device(\"cuda:0\" if torch.cuda.is_available() else \"cpu\")\n",
    "print( 'device:', device )\n",
    "\n",
    "# Models in hospital A\n",
    "# TODO: this should happen in the node class (e.g. node1.train_all())\n",
    "history = [None] * len(node1.model_bench)\n",
    "for i, model in enumerate(node1.model_bench):\n",
    "    optimizer = torch.optim.Adam( model.net.parameters(), 5e-3)\n",
    "    scheduler = torch.optim.lr_scheduler.ReduceLROnPlateau( optimizer, mode='min', factor=0.1, patience=5)\n",
    "    history[i] = model.train(\n",
    "        dataset=train_ds,\n",
    "        loss_function=cross_entorpy_with_onehot,\n",
    "        optimizer=optimizer,\n",
    "        epochs=100,\n",
    "        metrics=[\"AUC\"],\n",
    "        batch_size=16,\n",
    "        device=device,\n",
    "        validation_dataset=val_ds,\n",
    "        scheduler=scheduler, \n",
    "        earlystop={'patience':5, 'delta':0}\n",
    ")"
   ]
  },
  {
   "cell_type": "code",
   "execution_count": null,
   "id": "utility-appearance",
   "metadata": {
    "scrolled": true
   },
   "outputs": [],
   "source": [
    "# show the training result\n",
    "\n",
    "%matplotlib inline\n",
    "cols = 4\n",
    "plt.figure( figsize=(50, 10) ) \n",
    "\n",
    "plt.subplot( 1, cols, 1 )\n",
    "for i in range(len(history)):\n",
    "    plt.plot( history[i]['loss'] )\n",
    "plt.title( 'training loss vs epoch' )\n",
    "plt.legend( [x.name for x in node1.model_bench] )\n",
    "plt.xlabel('epochs')\n",
    "plt.ylabel('loss')\n",
    "\n",
    "plt.subplot( 1, cols, 2 )\n",
    "for i in range(len(history)):\n",
    "    plt.plot( history[i]['val_loss'] )\n",
    "plt.title( 'validation loss vs epoch' )\n",
    "plt.legend( [x.name for x in node1.model_bench] )\n",
    "plt.xlabel('epochs')\n",
    "plt.ylabel('loss')\n",
    "\n",
    "plt.subplot( 1, cols, 3 )\n",
    "for i in range(len(history)):\n",
    "    plt.plot( history[i]['auc'] )\n",
    "plt.title( 'training average auc vs epoch' )\n",
    "plt.legend( [x.name for x in node1.model_bench] )\n",
    "plt.xlabel('epochs')\n",
    "plt.ylabel('auc')\n",
    "\n",
    "plt.subplot( 1, cols, 4 )\n",
    "for i in range(len(history)):\n",
    "    plt.plot( history[i]['val_auc'] )\n",
    "plt.title( 'validation average auc vs epoch' )\n",
    "plt.legend( [x.name for x in node1.model_bench] )\n",
    "plt.xlabel('epochs')\n",
    "plt.ylabel('auc')"
   ]
  },
  {
   "cell_type": "code",
   "execution_count": null,
   "id": "constant-phone",
   "metadata": {},
   "outputs": [],
   "source": [
    "# Commit the model updates\n",
    "node1.commit_models('initial commit')\n",
    "\n",
    "for model in node1.model_bench:\n",
    "    print(model.name)\n",
    "    print(model.history, '\\n')"
   ]
  },
  {
   "cell_type": "code",
   "execution_count": null,
   "id": "affiliated-phoenix",
   "metadata": {
    "scrolled": true
   },
   "outputs": [],
   "source": [
    "# Share models with other hospitals\n",
    "node1.broadcast_models()"
   ]
  },
  {
   "cell_type": "code",
   "execution_count": null,
   "id": "breathing-nudist",
   "metadata": {},
   "outputs": [],
   "source": [
    "print( 'Hospital B model bench:', node2.model_bench )\n",
    "print( 'Hospital B model bench:', node3.model_bench )"
   ]
  },
  {
   "cell_type": "markdown",
   "id": "improving-worst",
   "metadata": {},
   "source": [
    "## Training @ Hospital B"
   ]
  },
  {
   "cell_type": "code",
   "execution_count": null,
   "id": "satisfied-income",
   "metadata": {
    "scrolled": true
   },
   "outputs": [],
   "source": [
    "device = torch.device(\"cuda:0\" if torch.cuda.is_available() else \"cpu\")\n",
    "print( 'device:', device )\n",
    "\n",
    "# Models in hospital B\n",
    "# TODO: this should happen in the node class (e.g. node1.train_all())\n",
    "history = [None] * len(node2.model_bench)\n",
    "for i, model in enumerate(node2.model_bench):\n",
    "    optimizer = torch.optim.Adam( model.net.parameters(), 5e-3)\n",
    "    scheduler = torch.optim.lr_scheduler.ReduceLROnPlateau( optimizer, mode='min', factor=0.1, patience=5)\n",
    "    history[i] = model.train(\n",
    "        dataset=train_ds,\n",
    "        loss_function=cross_entorpy_with_onehot,\n",
    "        optimizer=optimizer,\n",
    "        epochs=10,\n",
    "        metrics=[\"AUC\"],\n",
    "        batch_size=16,\n",
    "        device=device,\n",
    "        validation_dataset=val_ds,\n",
    "        scheduler=scheduler\n",
    ")"
   ]
  },
  {
   "cell_type": "code",
   "execution_count": null,
   "id": "ready-accordance",
   "metadata": {},
   "outputs": [],
   "source": [
    "# show training result\n",
    "cols = 4\n",
    "plt.figure( figsize=(50, 10) ) \n",
    "\n",
    "plt.subplot( 1, cols, 1 )\n",
    "for i in range(len(history)):\n",
    "    plt.plot( history[i]['loss'] )\n",
    "plt.title( 'training loss vs epoch' )\n",
    "plt.legend( [x.name for x in node2.model_bench] )\n",
    "plt.xlabel('epochs')\n",
    "plt.ylabel('loss')\n",
    "\n",
    "plt.subplot( 1, cols, 2 )\n",
    "for i in range(len(history)):\n",
    "    plt.plot( history[i]['val_loss'] )\n",
    "plt.title( 'validation loss vs epoch' )\n",
    "plt.legend( [x.name for x in node2.model_bench] )\n",
    "plt.xlabel('epochs')\n",
    "plt.ylabel('loss')\n",
    "\n",
    "plt.subplot( 1, cols, 3 )\n",
    "for i in range(len(history)):\n",
    "    plt.plot( history[i]['auc'] )\n",
    "plt.title( 'training average auc vs epoch' )\n",
    "plt.legend( [x.name for x in node2.model_bench] )\n",
    "plt.xlabel('epochs')\n",
    "plt.ylabel('auc')\n",
    "\n",
    "plt.subplot( 1, cols, 4 )\n",
    "for i in range(len(history)):\n",
    "    plt.plot( history[i]['val_auc'] )\n",
    "plt.title( 'validation average auc vs epoch' )\n",
    "plt.legend( [x.name for x in node2.model_bench] )\n",
    "plt.xlabel('epochs')\n",
    "plt.ylabel('auc')"
   ]
  },
  {
   "cell_type": "code",
   "execution_count": null,
   "id": "patient-spare",
   "metadata": {
    "scrolled": true
   },
   "outputs": [],
   "source": [
    "# Commit the model updates\n",
    "node2.commit_models('model updates')\n",
    "\n",
    "for model in node2.model_bench:\n",
    "    print(model.name)\n",
    "    print(model.history, '\\n')"
   ]
  },
  {
   "cell_type": "markdown",
   "id": "helpful-rabbit",
   "metadata": {},
   "source": [
    "## Summary\n",
    "\n",
    "This jupyter notebook demonstrates the use of `CBISDDSMDataset` class for multi-class classification problem wraped with `Model` class, which is contained in `Node`'s model_bench. Also, we demoonstrated a commit functionality where a snapshot of the model can be tracked. Furthermore, we demonstrated the communication feature between different `Node`s where we can share models with other peers."
   ]
  },
  {
   "cell_type": "code",
   "execution_count": null,
   "id": "bridal-assessment",
   "metadata": {},
   "outputs": [],
   "source": [
    "node1.destroy()\n",
    "node2.destroy()\n",
    "node3.destroy()"
   ]
  }
 ],
 "metadata": {
  "kernelspec": {
   "display_name": "Python [conda env:imagiq-fl] *",
   "language": "python",
   "name": "conda-env-imagiq-fl-py"
  },
  "language_info": {
   "codemirror_mode": {
    "name": "ipython",
    "version": 3
   },
   "file_extension": ".py",
   "mimetype": "text/x-python",
   "name": "python",
   "nbconvert_exporter": "python",
   "pygments_lexer": "ipython3",
   "version": "3.8.5"
  }
 },
 "nbformat": 4,
 "nbformat_minor": 5
}
